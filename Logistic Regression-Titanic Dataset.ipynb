{
 "cells": [
  {
   "cell_type": "code",
   "execution_count": 11,
   "id": "6fee4797",
   "metadata": {},
   "outputs": [],
   "source": [
    "from sklearn.linear_model import LogisticRegression\n",
    "import numpy as np\n",
    "import pandas as pd\n",
    "\n",
    "training=pd.read_csv('training_titanic_x_y_train.csv')\n",
    "testing=pd.read_csv(\"test_titanic_x_test.csv\")"
   ]
  },
  {
   "cell_type": "code",
   "execution_count": 12,
   "id": "aab96c0c",
   "metadata": {},
   "outputs": [
    {
     "data": {
      "text/html": [
       "<div>\n",
       "<style scoped>\n",
       "    .dataframe tbody tr th:only-of-type {\n",
       "        vertical-align: middle;\n",
       "    }\n",
       "\n",
       "    .dataframe tbody tr th {\n",
       "        vertical-align: top;\n",
       "    }\n",
       "\n",
       "    .dataframe thead th {\n",
       "        text-align: right;\n",
       "    }\n",
       "</style>\n",
       "<table border=\"1\" class=\"dataframe\">\n",
       "  <thead>\n",
       "    <tr style=\"text-align: right;\">\n",
       "      <th></th>\n",
       "      <th>Pclass</th>\n",
       "      <th>Name</th>\n",
       "      <th>Sex</th>\n",
       "      <th>Age</th>\n",
       "      <th>SibSp</th>\n",
       "      <th>Parch</th>\n",
       "      <th>Ticket</th>\n",
       "      <th>Fare</th>\n",
       "      <th>Cabin</th>\n",
       "      <th>Embarked</th>\n",
       "      <th>Survived</th>\n",
       "    </tr>\n",
       "  </thead>\n",
       "  <tbody>\n",
       "    <tr>\n",
       "      <th>0</th>\n",
       "      <td>2</td>\n",
       "      <td>Weisz, Mrs. Leopold (Mathilde Francoise Pede)</td>\n",
       "      <td>female</td>\n",
       "      <td>29.0</td>\n",
       "      <td>1</td>\n",
       "      <td>0</td>\n",
       "      <td>228414</td>\n",
       "      <td>26.0000</td>\n",
       "      <td>NaN</td>\n",
       "      <td>S</td>\n",
       "      <td>1</td>\n",
       "    </tr>\n",
       "    <tr>\n",
       "      <th>1</th>\n",
       "      <td>3</td>\n",
       "      <td>Williams, Mr. Howard Hugh \"Harry\"</td>\n",
       "      <td>male</td>\n",
       "      <td>NaN</td>\n",
       "      <td>0</td>\n",
       "      <td>0</td>\n",
       "      <td>A/5 2466</td>\n",
       "      <td>8.0500</td>\n",
       "      <td>NaN</td>\n",
       "      <td>S</td>\n",
       "      <td>0</td>\n",
       "    </tr>\n",
       "    <tr>\n",
       "      <th>2</th>\n",
       "      <td>2</td>\n",
       "      <td>Morley, Mr. Henry Samuel (\"Mr Henry Marshall\")</td>\n",
       "      <td>male</td>\n",
       "      <td>39.0</td>\n",
       "      <td>0</td>\n",
       "      <td>0</td>\n",
       "      <td>250655</td>\n",
       "      <td>26.0000</td>\n",
       "      <td>NaN</td>\n",
       "      <td>S</td>\n",
       "      <td>0</td>\n",
       "    </tr>\n",
       "    <tr>\n",
       "      <th>3</th>\n",
       "      <td>3</td>\n",
       "      <td>Palsson, Mrs. Nils (Alma Cornelia Berglund)</td>\n",
       "      <td>female</td>\n",
       "      <td>29.0</td>\n",
       "      <td>0</td>\n",
       "      <td>4</td>\n",
       "      <td>349909</td>\n",
       "      <td>21.0750</td>\n",
       "      <td>NaN</td>\n",
       "      <td>S</td>\n",
       "      <td>0</td>\n",
       "    </tr>\n",
       "    <tr>\n",
       "      <th>4</th>\n",
       "      <td>3</td>\n",
       "      <td>Sutehall, Mr. Henry Jr</td>\n",
       "      <td>male</td>\n",
       "      <td>25.0</td>\n",
       "      <td>0</td>\n",
       "      <td>0</td>\n",
       "      <td>SOTON/OQ 392076</td>\n",
       "      <td>7.0500</td>\n",
       "      <td>NaN</td>\n",
       "      <td>S</td>\n",
       "      <td>0</td>\n",
       "    </tr>\n",
       "    <tr>\n",
       "      <th>...</th>\n",
       "      <td>...</td>\n",
       "      <td>...</td>\n",
       "      <td>...</td>\n",
       "      <td>...</td>\n",
       "      <td>...</td>\n",
       "      <td>...</td>\n",
       "      <td>...</td>\n",
       "      <td>...</td>\n",
       "      <td>...</td>\n",
       "      <td>...</td>\n",
       "      <td>...</td>\n",
       "    </tr>\n",
       "    <tr>\n",
       "      <th>663</th>\n",
       "      <td>2</td>\n",
       "      <td>Ilett, Miss. Bertha</td>\n",
       "      <td>female</td>\n",
       "      <td>17.0</td>\n",
       "      <td>0</td>\n",
       "      <td>0</td>\n",
       "      <td>SO/C 14885</td>\n",
       "      <td>10.5000</td>\n",
       "      <td>NaN</td>\n",
       "      <td>S</td>\n",
       "      <td>1</td>\n",
       "    </tr>\n",
       "    <tr>\n",
       "      <th>664</th>\n",
       "      <td>3</td>\n",
       "      <td>Morrow, Mr. Thomas Rowan</td>\n",
       "      <td>male</td>\n",
       "      <td>NaN</td>\n",
       "      <td>0</td>\n",
       "      <td>0</td>\n",
       "      <td>372622</td>\n",
       "      <td>7.7500</td>\n",
       "      <td>NaN</td>\n",
       "      <td>Q</td>\n",
       "      <td>0</td>\n",
       "    </tr>\n",
       "    <tr>\n",
       "      <th>665</th>\n",
       "      <td>3</td>\n",
       "      <td>Bing, Mr. Lee</td>\n",
       "      <td>male</td>\n",
       "      <td>32.0</td>\n",
       "      <td>0</td>\n",
       "      <td>0</td>\n",
       "      <td>1601</td>\n",
       "      <td>56.4958</td>\n",
       "      <td>NaN</td>\n",
       "      <td>S</td>\n",
       "      <td>1</td>\n",
       "    </tr>\n",
       "    <tr>\n",
       "      <th>666</th>\n",
       "      <td>3</td>\n",
       "      <td>Strandberg, Miss. Ida Sofia</td>\n",
       "      <td>female</td>\n",
       "      <td>22.0</td>\n",
       "      <td>0</td>\n",
       "      <td>0</td>\n",
       "      <td>7553</td>\n",
       "      <td>9.8375</td>\n",
       "      <td>NaN</td>\n",
       "      <td>S</td>\n",
       "      <td>0</td>\n",
       "    </tr>\n",
       "    <tr>\n",
       "      <th>667</th>\n",
       "      <td>3</td>\n",
       "      <td>Murphy, Miss. Katherine \"Kate\"</td>\n",
       "      <td>female</td>\n",
       "      <td>NaN</td>\n",
       "      <td>1</td>\n",
       "      <td>0</td>\n",
       "      <td>367230</td>\n",
       "      <td>15.5000</td>\n",
       "      <td>NaN</td>\n",
       "      <td>Q</td>\n",
       "      <td>1</td>\n",
       "    </tr>\n",
       "  </tbody>\n",
       "</table>\n",
       "<p>668 rows × 11 columns</p>\n",
       "</div>"
      ],
      "text/plain": [
       "     Pclass                                            Name     Sex   Age  \\\n",
       "0         2   Weisz, Mrs. Leopold (Mathilde Francoise Pede)  female  29.0   \n",
       "1         3               Williams, Mr. Howard Hugh \"Harry\"    male   NaN   \n",
       "2         2  Morley, Mr. Henry Samuel (\"Mr Henry Marshall\")    male  39.0   \n",
       "3         3     Palsson, Mrs. Nils (Alma Cornelia Berglund)  female  29.0   \n",
       "4         3                          Sutehall, Mr. Henry Jr    male  25.0   \n",
       "..      ...                                             ...     ...   ...   \n",
       "663       2                             Ilett, Miss. Bertha  female  17.0   \n",
       "664       3                        Morrow, Mr. Thomas Rowan    male   NaN   \n",
       "665       3                                   Bing, Mr. Lee    male  32.0   \n",
       "666       3                     Strandberg, Miss. Ida Sofia  female  22.0   \n",
       "667       3                  Murphy, Miss. Katherine \"Kate\"  female   NaN   \n",
       "\n",
       "     SibSp  Parch           Ticket     Fare Cabin Embarked  Survived  \n",
       "0        1      0           228414  26.0000   NaN        S         1  \n",
       "1        0      0         A/5 2466   8.0500   NaN        S         0  \n",
       "2        0      0           250655  26.0000   NaN        S         0  \n",
       "3        0      4           349909  21.0750   NaN        S         0  \n",
       "4        0      0  SOTON/OQ 392076   7.0500   NaN        S         0  \n",
       "..     ...    ...              ...      ...   ...      ...       ...  \n",
       "663      0      0       SO/C 14885  10.5000   NaN        S         1  \n",
       "664      0      0           372622   7.7500   NaN        Q         0  \n",
       "665      0      0             1601  56.4958   NaN        S         1  \n",
       "666      0      0             7553   9.8375   NaN        S         0  \n",
       "667      1      0           367230  15.5000   NaN        Q         1  \n",
       "\n",
       "[668 rows x 11 columns]"
      ]
     },
     "execution_count": 12,
     "metadata": {},
     "output_type": "execute_result"
    }
   ],
   "source": [
    "training"
   ]
  },
  {
   "cell_type": "code",
   "execution_count": 13,
   "id": "ec9a4a19",
   "metadata": {},
   "outputs": [
    {
     "data": {
      "text/plain": [
       "array([1, 0, 0, 1, 0, 0, 1, 0, 0, 0, 2, 0, 0, 0, 2, 0, 0, 0, 0, 2, 4, 1,\n",
       "       1, 0, 1, 2, 0, 0, 0, 0, 1, 0, 4, 2, 4, 0, 3, 3, 0, 0, 0, 0, 1, 2,\n",
       "       0, 0, 0, 0, 4, 4, 2, 3, 0, 1, 0, 2, 0, 0, 0, 1, 0, 0, 0, 1, 2, 1,\n",
       "       0, 0, 0, 0, 1, 0, 0, 0, 0, 2, 2, 4, 1, 4, 1, 0, 1, 0, 2, 0, 0, 0,\n",
       "       0, 0, 4, 1, 2, 0, 0, 0, 2, 0, 0, 2, 0, 0, 0, 0, 2, 0, 0, 0, 2, 4,\n",
       "       2, 1, 0, 2, 0, 0, 0, 0, 2, 2, 1, 4, 2, 2, 2, 0, 0, 0, 0, 1, 0, 2,\n",
       "       0, 0, 4, 1, 0, 0, 0, 4, 0, 1, 0, 0, 0, 0, 1, 0, 2, 2, 1, 0, 1, 2,\n",
       "       1, 0, 1, 0, 2, 1, 1, 2, 0, 0, 0, 4, 0, 0, 0, 3, 0, 4, 1, 0, 4, 2,\n",
       "       1, 0, 0, 0, 0, 2, 1, 0, 1, 3, 0, 2, 1, 0, 0, 2, 2, 0, 0, 0, 0, 0,\n",
       "       0, 0, 2, 4, 2, 0, 2, 0, 1, 0, 0, 3, 1, 1, 2, 0, 2, 0, 0, 3, 2, 2,\n",
       "       2, 0, 1, 0, 0, 0, 1, 0, 1, 0, 0, 3, 1, 0, 0, 0, 0, 1, 0, 2, 0, 0,\n",
       "       0, 1, 0, 0, 2, 1, 2, 0, 0, 0, 2, 0, 0, 2, 0, 0, 0, 0, 1, 0, 0, 4,\n",
       "       0, 0, 1, 0, 0, 0, 3, 3, 0, 1, 2, 0, 0, 3, 0, 0, 0, 1, 2, 0, 0, 2,\n",
       "       2, 0, 0, 0, 2, 0, 0, 2, 1, 2, 3, 0, 0, 2, 0, 0, 3, 1, 0, 0, 0, 1,\n",
       "       0, 2, 2, 0, 1, 0, 0, 0, 1, 0, 0, 0, 1, 0, 0, 3, 2, 0, 2, 1, 0, 1,\n",
       "       1, 0, 4, 0, 2, 1, 2, 0, 0, 0, 4, 2, 0, 0, 4, 1, 2, 2, 0, 2, 0, 0,\n",
       "       0, 0, 2, 0, 0, 0, 1, 0, 2, 0, 0, 0, 0, 0, 0, 0, 0, 0, 0, 0, 4, 0,\n",
       "       0, 0, 2, 1, 1, 0, 0, 0, 0, 2, 0, 0, 2, 2, 2, 0, 2, 4, 2, 0, 0, 0,\n",
       "       0, 2, 0, 1, 0, 3, 0, 0, 2, 2, 4, 2, 3, 1, 0, 0, 1, 0, 3, 2, 3, 1,\n",
       "       0, 2, 0, 0, 0, 0, 0, 0, 1, 0, 1, 1, 4, 0, 1, 0, 2, 0, 3, 1, 2, 1,\n",
       "       0, 0, 2, 0, 0, 1, 0, 0, 2, 2, 1, 4, 2, 0, 0, 1, 1, 0, 3, 0, 0, 0,\n",
       "       1, 2, 0, 0, 2, 0, 0, 3, 0, 2, 0, 0, 4, 0, 0, 0, 0, 0, 1, 0, 0, 0,\n",
       "       0, 0, 0, 4, 1, 3, 0, 0, 2, 0, 0, 0, 1, 3, 0, 0, 0, 0, 0, 0, 0, 0,\n",
       "       1, 0, 0, 0, 0, 0, 2, 2, 2, 0, 0, 0, 0, 0, 4, 0, 0, 0, 0, 1, 0, 1,\n",
       "       2, 1, 3, 0, 1, 0, 2, 2, 0, 2, 0, 0, 1, 0, 1, 0, 0, 3, 0, 2, 2, 0,\n",
       "       0, 3, 0, 2, 1, 0, 2, 0, 1, 0, 0, 4, 0, 2, 0, 0, 1, 2, 0, 0, 0, 2,\n",
       "       2, 0, 0, 0, 0, 2, 2, 1, 0, 0, 2, 0, 0, 2, 2, 2, 0, 3, 2, 1, 1, 2,\n",
       "       0, 0, 0, 1, 4, 4, 0, 0, 0, 2, 0, 0, 2, 0, 2, 1, 0, 0, 0, 0, 1, 0,\n",
       "       3, 0, 2, 0, 2, 0, 1, 1, 0, 4, 2, 2, 0, 0, 0, 0, 0, 0, 0, 2, 0, 2,\n",
       "       0, 1, 2, 0, 0, 0, 0, 3, 2, 0, 4, 0, 4, 0, 1, 1, 0, 0, 0, 0, 1, 0,\n",
       "       3, 1, 0, 2, 0, 0, 2, 2])"
      ]
     },
     "execution_count": 13,
     "metadata": {},
     "output_type": "execute_result"
    }
   ],
   "source": [
    "training['Name']\n",
    "title_in_train = []\n",
    "\n",
    "for i in training['Name']:\n",
    "    title_in_train.append(i.split()[1][0:-1])\n",
    "    \n",
    "title_in_train = np.array(title_in_train)\n",
    "\n",
    "title_in_train[title_in_train == \"Mr\"]=0\n",
    "title_in_train[title_in_train == \"Mrs\"]=1\n",
    "title_in_train[title_in_train == \"Miss\"]=2\n",
    "title_in_train[title_in_train == \"Master\"]=3\n",
    "title_in_train[(title_in_train != '0')&(title_in_train != '1')&(title_in_train != '2')&(title_in_train != '3')]=4\n",
    "title_in_train = np.array(title_in_train,dtype =int)\n",
    "title_in_train"
   ]
  },
  {
   "cell_type": "code",
   "execution_count": 14,
   "id": "965808b8",
   "metadata": {},
   "outputs": [
    {
     "data": {
      "text/plain": [
       "array([3, 4, 0, 1, 0, 0, 4, 0, 2, 0, 2, 0, 2, 2, 0, 0, 0, 3, 0, 2, 2, 0,\n",
       "       2, 2, 0, 0, 0, 0, 2, 2, 0, 0, 0, 0, 0, 1, 2, 0, 0, 0, 2, 0, 4, 0,\n",
       "       2, 3, 0, 2, 0, 0, 0, 2, 1, 2, 0, 0, 3, 0, 0, 0, 0, 4, 1, 2, 1, 4,\n",
       "       0, 4, 2, 4, 0, 0, 0, 0, 0, 1, 2, 0, 0, 0, 0, 0, 0, 0, 0, 0, 0, 2,\n",
       "       0, 0, 2, 0, 0, 2, 0, 0, 0, 0, 3, 2, 2, 4, 2, 3, 2, 2, 4, 4, 0, 0,\n",
       "       0, 1, 1, 0, 1, 0, 0, 2, 0, 0, 0, 0, 0, 0, 0, 3, 3, 0, 0, 0, 0, 0,\n",
       "       0, 0, 0, 0, 2, 0, 2, 0, 0, 0, 0, 0, 0, 0, 0, 0, 2, 1, 2, 0, 2, 0,\n",
       "       2, 0, 0, 2, 0, 3, 0, 2, 1, 2, 2, 0, 0, 0, 1, 2, 1, 4, 2, 0, 2, 0,\n",
       "       0, 0, 0, 2, 0, 0, 3, 2, 1, 0, 1, 0, 2, 0, 0, 0, 1, 0, 0, 2, 2, 2,\n",
       "       1, 4, 0, 4, 0, 0, 0, 0, 0, 0, 1, 2, 0, 2, 0, 0, 2, 2, 0, 0, 0, 4,\n",
       "       4, 0, 0])"
      ]
     },
     "execution_count": 14,
     "metadata": {},
     "output_type": "execute_result"
    }
   ],
   "source": [
    "testing['Name']\n",
    "title_in_test = []\n",
    "\n",
    "for i in testing['Name']:\n",
    "    title_in_test.append(i.split()[1][0:-1])\n",
    "    \n",
    "title_in_test = np.array(title_in_test)\n",
    "\n",
    "title_in_test[title_in_test == \"Mr\"]=0\n",
    "title_in_test[title_in_test == \"Mrs\"]=1\n",
    "title_in_test[title_in_test == \"Miss\"]=2\n",
    "title_in_test[title_in_test == \"Master\"]=3\n",
    "title_in_test[(title_in_test != '0')&(title_in_test != '1')&(title_in_test != '2')&(title_in_test != '3')]=4\n",
    "title_in_test = np.array(title_in_test,dtype =int)\n",
    "title_in_test"
   ]
  },
  {
   "cell_type": "code",
   "execution_count": 15,
   "id": "7777716c",
   "metadata": {},
   "outputs": [
    {
     "data": {
      "text/plain": [
       "(668, 9)"
      ]
     },
     "execution_count": 15,
     "metadata": {},
     "output_type": "execute_result"
    }
   ],
   "source": [
    "training.loc[training['Sex']=='female', 'Sex']=0\n",
    "training.loc[training['Sex']=='male', 'Sex']=1\n",
    "training.loc[training['Embarked'].isnull(), 'Embarked']='S'\n",
    "training.loc[training['Embarked']=='S', 'Embarked']=1\n",
    "training.loc[training['Embarked']=='C', 'Embarked']=2\n",
    "training.loc[training['Embarked']=='Q', 'Embarked']=3\n",
    "training.loc[training['Cabin'].isnull(), 'Cabin']=0\n",
    "training.loc[training['Cabin']!=0, 'Cabin']=1\n",
    "training.loc[training['Age'].isnull(), 'Age']= training.loc[training['Age'].notnull(), 'Age'].median()\n",
    "training=training.drop('Ticket', axis=1)\n",
    "training= training.drop('Name', axis=1)\n",
    "\n",
    "training_data= training.values\n",
    "x = training_data[:, :-1]\n",
    "y = training_data[:, -1]\n",
    "y = y.astype('int')\n",
    "x = np.append(x, title_in_train.reshape(-1, 1), axis=1)\n",
    "x.shape"
   ]
  },
  {
   "cell_type": "code",
   "execution_count": 16,
   "id": "3e2c5299",
   "metadata": {},
   "outputs": [
    {
     "data": {
      "text/plain": [
       "(223, 9)"
      ]
     },
     "execution_count": 16,
     "metadata": {},
     "output_type": "execute_result"
    }
   ],
   "source": [
    "testing.loc[testing['Sex']=='female', 'Sex']=0\n",
    "testing.loc[testing['Sex']=='male', 'Sex']=1\n",
    "testing.loc[testing['Embarked'].isnull(), 'Embarked']='S'\n",
    "testing.loc[testing['Embarked']=='S', 'Embarked']=1\n",
    "testing.loc[testing['Embarked']=='C', 'Embarked']=2\n",
    "testing.loc[testing['Embarked']=='Q', 'Embarked']=3\n",
    "testing.loc[testing['Cabin'].isnull(), 'Cabin']=0\n",
    "testing.loc[testing['Cabin']!=0, 'Cabin']=1\n",
    "testing.loc[testing['Age'].isnull(), 'Age']=testing.loc[training['Age'].notnull(),'Age'].median()\n",
    "testing=testing.drop('Ticket', axis=1)\n",
    "testing= testing.drop('Name', axis=1)\n",
    "\n",
    "testing_data=testing.values\n",
    "testing_data=np.append(testing_data, title_in_test.reshape(-1, 1), axis=1)\n",
    "testing_data.shape"
   ]
  },
  {
   "cell_type": "code",
   "execution_count": 17,
   "id": "427387f7",
   "metadata": {},
   "outputs": [
    {
     "data": {
      "text/plain": [
       "LogisticRegression(max_iter=1000000, tol=1e-05)"
      ]
     },
     "execution_count": 17,
     "metadata": {},
     "output_type": "execute_result"
    }
   ],
   "source": [
    "clf=LogisticRegression(solver = 'lbfgs',max_iter=1000000, tol=0.00001)\n",
    "clf.fit(x, y)"
   ]
  },
  {
   "cell_type": "code",
   "execution_count": 18,
   "id": "881c6891",
   "metadata": {},
   "outputs": [],
   "source": [
    "predictions =clf.predict(testing_data)"
   ]
  },
  {
   "cell_type": "code",
   "execution_count": 19,
   "id": "da67abf9",
   "metadata": {},
   "outputs": [
    {
     "data": {
      "text/plain": [
       "0.8038922155688623"
      ]
     },
     "execution_count": 19,
     "metadata": {},
     "output_type": "execute_result"
    }
   ],
   "source": [
    "clf.score(x,y)"
   ]
  },
  {
   "cell_type": "code",
   "execution_count": 10,
   "id": "97ce8828",
   "metadata": {},
   "outputs": [],
   "source": [
    "np.savetxt(X=predictions, delimiter=',', fname='Predictions_titanic.csv', fmt='%.0f')"
   ]
  }
 ],
 "metadata": {
  "kernelspec": {
   "display_name": "Python 3",
   "language": "python",
   "name": "python3"
  },
  "language_info": {
   "codemirror_mode": {
    "name": "ipython",
    "version": 3
   },
   "file_extension": ".py",
   "mimetype": "text/x-python",
   "name": "python",
   "nbconvert_exporter": "python",
   "pygments_lexer": "ipython3",
   "version": "3.8.8"
  }
 },
 "nbformat": 4,
 "nbformat_minor": 5
}
